{
 "cells": [
  {
   "cell_type": "code",
   "execution_count": 1,
   "metadata": {},
   "outputs": [],
   "source": [
    "import os\n",
    "from dotenv import load_dotenv\n",
    "load_dotenv()\n",
    "\n",
    "os.environ['OPENAI_API_KEY']=os.getenv(\"OPENAI_API_KEY\")\n",
    "## Langsmith Tracking\n",
    "os.environ[\"LANGCHAIN_API_KEY\"]=os.getenv(\"LANGCHAIN_API_KEY\")\n",
    "os.environ[\"LANGCHAIN_TRACING_V2\"]=\"true\"\n",
    "os.environ[\"LANGCHAIN_PROJECT\"]=os.getenv(\"LANGCHAIN_PROJECT\")"
   ]
  },
  {
   "cell_type": "code",
   "execution_count": 2,
   "metadata": {},
   "outputs": [
    {
     "name": "stdout",
     "output_type": "stream",
     "text": [
      "client=<openai.resources.chat.completions.completions.Completions object at 0x10ccb26b0> async_client=<openai.resources.chat.completions.completions.AsyncCompletions object at 0x10ccb23b0> root_client=<openai.OpenAI object at 0x1043562c0> root_async_client=<openai.AsyncOpenAI object at 0x10cfbf7c0> model_name='gpt-4o' model_kwargs={} openai_api_key=SecretStr('**********')\n"
     ]
    }
   ],
   "source": [
    "from langchain_openai import ChatOpenAI\n",
    "llm=ChatOpenAI(model=\"gpt-4o\")\n",
    "print(llm)"
   ]
  },
  {
   "cell_type": "code",
   "execution_count": 3,
   "metadata": {},
   "outputs": [],
   "source": [
    "## Input and get response form LLM\n",
    "\n",
    "result=llm.invoke(\"What is generative AI?\")"
   ]
  },
  {
   "cell_type": "code",
   "execution_count": 4,
   "metadata": {},
   "outputs": [
    {
     "name": "stdout",
     "output_type": "stream",
     "text": [
      "content='Generative AI refers to a category of artificial intelligence systems designed to create new content by learning patterns from existing data. Unlike traditional AI, which typically focuses on analyzing and sorting data, generative AI models learn the underlying structure of data and use that understanding to generate novel outputs. Some key characteristics and applications include:\\n\\n1. **Models and Techniques:** Generative AI often uses models such as Generative Adversarial Networks (GANs), Variational Autoencoders (VAEs), and transformer-based models like GPT (Generative Pre-trained Transformer). These models are trained on large datasets to generate human-like text, images, music, and more.\\n\\n2. **Text Generation:** One of the most well-known applications is in natural language processing, where AI systems like GPT-3 and its successors can generate coherent and contextually relevant text based on prompts provided by users.\\n\\n3. **Image and Video Creation:** Generative AI can create realistic images and videos. GANs, for example, have been used to generate high-quality images that can be indistinguishable from real photographs.\\n\\n4. **Art and Design:** Artists and designers use generative AI to create artworks, design patterns, and even entire animations, exploring a new realm of creative possibilities.\\n\\n5. **Music and Audio:** AI models can compose music by learning from a wide array of musical pieces, generating new compositions in various styles and genres.\\n\\n6. **Data Augmentation:** In machine learning, generative models can create synthetic data to augment training datasets, improving model robustness and performance.\\n\\n7. **Ethical Considerations:** The ability of generative AI to produce human-like content raises concerns about misuse, such as generating misleading information, creating deepfakes, or infringing on intellectual property rights. As a result, ethical guidelines and robust regulatory frameworks are important components of its development and deployment.\\n\\nOverall, generative AI is a rapidly advancing field with transformative potential across multiple domains, driving innovation while also necessitating careful consideration of its ethical and societal impacts.' additional_kwargs={'refusal': None} response_metadata={'token_usage': {'completion_tokens': 403, 'prompt_tokens': 13, 'total_tokens': 416, 'completion_tokens_details': {'accepted_prediction_tokens': 0, 'audio_tokens': 0, 'reasoning_tokens': 0, 'rejected_prediction_tokens': 0}, 'prompt_tokens_details': {'audio_tokens': 0, 'cached_tokens': 0}}, 'model_name': 'gpt-4o-2024-08-06', 'system_fingerprint': 'fp_46bff0e0c8', 'id': 'chatcmpl-C7cWBxDhgep2eCEo5GOj3MN6xtHh6', 'service_tier': 'default', 'finish_reason': 'stop', 'logprobs': None} id='run--10023ff7-7801-46e0-bd29-68eadad42225-0' usage_metadata={'input_tokens': 13, 'output_tokens': 403, 'total_tokens': 416, 'input_token_details': {'audio': 0, 'cache_read': 0}, 'output_token_details': {'audio': 0, 'reasoning': 0}}\n"
     ]
    }
   ],
   "source": [
    "print(result)"
   ]
  },
  {
   "cell_type": "code",
   "execution_count": 5,
   "metadata": {},
   "outputs": [
    {
     "data": {
      "text/plain": [
       "ChatPromptTemplate(input_variables=['input'], input_types={}, partial_variables={}, messages=[SystemMessagePromptTemplate(prompt=PromptTemplate(input_variables=[], input_types={}, partial_variables={}, template='You are an expert AI Engineer. Provide me answers based on the questions'), additional_kwargs={}), HumanMessagePromptTemplate(prompt=PromptTemplate(input_variables=['input'], input_types={}, partial_variables={}, template='{input}'), additional_kwargs={})])"
      ]
     },
     "execution_count": 5,
     "metadata": {},
     "output_type": "execute_result"
    }
   ],
   "source": [
    "### Chatprompt Template\n",
    "from langchain_core.prompts import ChatPromptTemplate\n",
    "\n",
    "prompt=ChatPromptTemplate.from_messages(\n",
    "    [\n",
    "        (\"system\",\"You are an expert AI Engineer. Provide me answers based on the questions\"),\n",
    "        (\"user\",\"{input}\")\n",
    "    ]\n",
    "\n",
    ")\n",
    "prompt"
   ]
  },
  {
   "cell_type": "code",
   "execution_count": 6,
   "metadata": {},
   "outputs": [
    {
     "name": "stdout",
     "output_type": "stream",
     "text": [
      "content='Langsmith is a platform developed by the team behind LangChain, focused on helping users build and optimize applications that leverage large language models (LLMs). It provides tools for efficiently developing, testing, evaluating, and fine-tuning applications throughout their lifecycle. Langsmith offers features for tracing the execution of chains and agents, managing datasets and feedback for iterative improvements, visualizing performance metrics, and assessing cost and latency. It is designed to integrate seamlessly with the LangChain framework and aims to simplify the process of creating robust, effective AI applications by providing insightful analytics and feedback loops.' additional_kwargs={'refusal': None} response_metadata={'token_usage': {'completion_tokens': 114, 'prompt_tokens': 33, 'total_tokens': 147, 'completion_tokens_details': {'accepted_prediction_tokens': 0, 'audio_tokens': 0, 'reasoning_tokens': 0, 'rejected_prediction_tokens': 0}, 'prompt_tokens_details': {'audio_tokens': 0, 'cached_tokens': 0}}, 'model_name': 'gpt-4o-2024-08-06', 'system_fingerprint': 'fp_46bff0e0c8', 'id': 'chatcmpl-C7cWGTexgxHI3LEK1gw8yYz2P3XKG', 'service_tier': 'default', 'finish_reason': 'stop', 'logprobs': None} id='run--960c45a3-bc06-49e8-95a4-cd6dc8232efa-0' usage_metadata={'input_tokens': 33, 'output_tokens': 114, 'total_tokens': 147, 'input_token_details': {'audio': 0, 'cache_read': 0}, 'output_token_details': {'audio': 0, 'reasoning': 0}}\n"
     ]
    }
   ],
   "source": [
    "## chain \n",
    "chain=prompt|llm\n",
    "\n",
    "response=chain.invoke({\"input\":\"Can you tell me about Langsmith?\"})\n",
    "print(response)"
   ]
  },
  {
   "cell_type": "code",
   "execution_count": 7,
   "metadata": {},
   "outputs": [
    {
     "data": {
      "text/plain": [
       "langchain_core.messages.ai.AIMessage"
      ]
     },
     "execution_count": 7,
     "metadata": {},
     "output_type": "execute_result"
    }
   ],
   "source": [
    "type(response)"
   ]
  },
  {
   "cell_type": "code",
   "execution_count": 8,
   "metadata": {},
   "outputs": [
    {
     "name": "stdout",
     "output_type": "stream",
     "text": [
      "Langsmith is a platform designed to facilitate the development and optimization of applications built on large language models (LLMs). It integrates seamlessly with LangChain, allowing developers to test, evaluate, and refine their applications. Langsmith provides tools to monitor and understand the performance of these applications through various metrics. The platform also offers features to conduct evaluations, which help in improving the quality and reliability of the applications. Additionally, Langsmith's user-friendly interface aids in debugging and iterating on prompt inputs to enhance the overall performance of language model-driven apps.\n"
     ]
    }
   ],
   "source": [
    "## stroutput Parser\n",
    "\n",
    "from langchain_core.output_parsers import StrOutputParser\n",
    "output_parser=StrOutputParser()\n",
    "chain=prompt|llm|output_parser\n",
    "\n",
    "response=chain.invoke({\"input\":\"Can you tell me about Langsmith?\"})\n",
    "print(response)"
   ]
  }
 ],
 "metadata": {
  "kernelspec": {
   "display_name": "venv",
   "language": "python",
   "name": "python3"
  },
  "language_info": {
   "codemirror_mode": {
    "name": "ipython",
    "version": 3
   },
   "file_extension": ".py",
   "mimetype": "text/x-python",
   "name": "python",
   "nbconvert_exporter": "python",
   "pygments_lexer": "ipython3",
   "version": "3.10.18"
  }
 },
 "nbformat": 4,
 "nbformat_minor": 2
}
