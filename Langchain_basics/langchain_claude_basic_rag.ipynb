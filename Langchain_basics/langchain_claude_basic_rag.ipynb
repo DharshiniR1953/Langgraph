{
 "cells": [
  {
   "cell_type": "code",
   "execution_count": 1,
   "id": "5b32c862",
   "metadata": {},
   "outputs": [
    {
     "name": "stdout",
     "output_type": "stream",
     "text": [
      "Requirement already satisfied: langchain-aws in ./venv/lib/python3.10/site-packages (0.2.31)\n",
      "Requirement already satisfied: boto3>=1.39.7 in ./venv/lib/python3.10/site-packages (from langchain-aws) (1.40.16)\n",
      "Requirement already satisfied: langchain-core<0.4.0,>=0.3.74 in ./venv/lib/python3.10/site-packages (from langchain-aws) (0.3.74)\n",
      "Requirement already satisfied: numpy<2,>=1 in ./venv/lib/python3.10/site-packages (from langchain-aws) (1.26.4)\n",
      "Requirement already satisfied: pydantic<3,>=2.10.0 in ./venv/lib/python3.10/site-packages (from langchain-aws) (2.11.7)\n",
      "Requirement already satisfied: langsmith>=0.3.45 in ./venv/lib/python3.10/site-packages (from langchain-core<0.4.0,>=0.3.74->langchain-aws) (0.4.15)\n",
      "Requirement already satisfied: tenacity!=8.4.0,<10.0.0,>=8.1.0 in ./venv/lib/python3.10/site-packages (from langchain-core<0.4.0,>=0.3.74->langchain-aws) (9.1.2)\n",
      "Requirement already satisfied: jsonpatch<2.0,>=1.33 in ./venv/lib/python3.10/site-packages (from langchain-core<0.4.0,>=0.3.74->langchain-aws) (1.33)\n",
      "Requirement already satisfied: PyYAML>=5.3 in ./venv/lib/python3.10/site-packages (from langchain-core<0.4.0,>=0.3.74->langchain-aws) (6.0.2)\n",
      "Requirement already satisfied: typing-extensions>=4.7 in ./venv/lib/python3.10/site-packages (from langchain-core<0.4.0,>=0.3.74->langchain-aws) (4.14.1)\n",
      "Requirement already satisfied: packaging>=23.2 in ./venv/lib/python3.10/site-packages (from langchain-core<0.4.0,>=0.3.74->langchain-aws) (25.0)\n",
      "Requirement already satisfied: jsonpointer>=1.9 in ./venv/lib/python3.10/site-packages (from jsonpatch<2.0,>=1.33->langchain-core<0.4.0,>=0.3.74->langchain-aws) (3.0.0)\n",
      "Requirement already satisfied: annotated-types>=0.6.0 in ./venv/lib/python3.10/site-packages (from pydantic<3,>=2.10.0->langchain-aws) (0.7.0)\n",
      "Requirement already satisfied: pydantic-core==2.33.2 in ./venv/lib/python3.10/site-packages (from pydantic<3,>=2.10.0->langchain-aws) (2.33.2)\n",
      "Requirement already satisfied: typing-inspection>=0.4.0 in ./venv/lib/python3.10/site-packages (from pydantic<3,>=2.10.0->langchain-aws) (0.4.1)\n",
      "Requirement already satisfied: botocore<1.41.0,>=1.40.16 in ./venv/lib/python3.10/site-packages (from boto3>=1.39.7->langchain-aws) (1.40.16)\n",
      "Requirement already satisfied: jmespath<2.0.0,>=0.7.1 in ./venv/lib/python3.10/site-packages (from boto3>=1.39.7->langchain-aws) (1.0.1)\n",
      "Requirement already satisfied: s3transfer<0.14.0,>=0.13.0 in ./venv/lib/python3.10/site-packages (from boto3>=1.39.7->langchain-aws) (0.13.1)\n",
      "Requirement already satisfied: python-dateutil<3.0.0,>=2.1 in ./venv/lib/python3.10/site-packages (from botocore<1.41.0,>=1.40.16->boto3>=1.39.7->langchain-aws) (2.9.0.post0)\n",
      "Requirement already satisfied: urllib3!=2.2.0,<3,>=1.25.4 in ./venv/lib/python3.10/site-packages (from botocore<1.41.0,>=1.40.16->boto3>=1.39.7->langchain-aws) (2.5.0)\n",
      "Requirement already satisfied: six>=1.5 in ./venv/lib/python3.10/site-packages (from python-dateutil<3.0.0,>=2.1->botocore<1.41.0,>=1.40.16->boto3>=1.39.7->langchain-aws) (1.17.0)\n",
      "Requirement already satisfied: httpx<1,>=0.23.0 in ./venv/lib/python3.10/site-packages (from langsmith>=0.3.45->langchain-core<0.4.0,>=0.3.74->langchain-aws) (0.28.1)\n",
      "Requirement already satisfied: orjson>=3.9.14 in ./venv/lib/python3.10/site-packages (from langsmith>=0.3.45->langchain-core<0.4.0,>=0.3.74->langchain-aws) (3.11.2)\n",
      "Requirement already satisfied: requests-toolbelt>=1.0.0 in ./venv/lib/python3.10/site-packages (from langsmith>=0.3.45->langchain-core<0.4.0,>=0.3.74->langchain-aws) (1.0.0)\n",
      "Requirement already satisfied: requests>=2.0.0 in ./venv/lib/python3.10/site-packages (from langsmith>=0.3.45->langchain-core<0.4.0,>=0.3.74->langchain-aws) (2.32.5)\n",
      "Requirement already satisfied: zstandard>=0.23.0 in ./venv/lib/python3.10/site-packages (from langsmith>=0.3.45->langchain-core<0.4.0,>=0.3.74->langchain-aws) (0.24.0)\n",
      "Requirement already satisfied: anyio in ./venv/lib/python3.10/site-packages (from httpx<1,>=0.23.0->langsmith>=0.3.45->langchain-core<0.4.0,>=0.3.74->langchain-aws) (4.10.0)\n",
      "Requirement already satisfied: certifi in ./venv/lib/python3.10/site-packages (from httpx<1,>=0.23.0->langsmith>=0.3.45->langchain-core<0.4.0,>=0.3.74->langchain-aws) (2025.8.3)\n",
      "Requirement already satisfied: httpcore==1.* in ./venv/lib/python3.10/site-packages (from httpx<1,>=0.23.0->langsmith>=0.3.45->langchain-core<0.4.0,>=0.3.74->langchain-aws) (1.0.9)\n",
      "Requirement already satisfied: idna in ./venv/lib/python3.10/site-packages (from httpx<1,>=0.23.0->langsmith>=0.3.45->langchain-core<0.4.0,>=0.3.74->langchain-aws) (3.10)\n",
      "Requirement already satisfied: h11>=0.16 in ./venv/lib/python3.10/site-packages (from httpcore==1.*->httpx<1,>=0.23.0->langsmith>=0.3.45->langchain-core<0.4.0,>=0.3.74->langchain-aws) (0.16.0)\n",
      "Requirement already satisfied: charset_normalizer<4,>=2 in ./venv/lib/python3.10/site-packages (from requests>=2.0.0->langsmith>=0.3.45->langchain-core<0.4.0,>=0.3.74->langchain-aws) (3.4.3)\n",
      "Requirement already satisfied: exceptiongroup>=1.0.2 in ./venv/lib/python3.10/site-packages (from anyio->httpx<1,>=0.23.0->langsmith>=0.3.45->langchain-core<0.4.0,>=0.3.74->langchain-aws) (1.3.0)\n",
      "Requirement already satisfied: sniffio>=1.1 in ./venv/lib/python3.10/site-packages (from anyio->httpx<1,>=0.23.0->langsmith>=0.3.45->langchain-core<0.4.0,>=0.3.74->langchain-aws) (1.3.1)\n",
      "Note: you may need to restart the kernel to use updated packages.\n"
     ]
    }
   ],
   "source": [
    "%pip install langchain-aws"
   ]
  },
  {
   "cell_type": "code",
   "execution_count": 2,
   "id": "22678fbc",
   "metadata": {},
   "outputs": [
    {
     "data": {
      "text/plain": [
       "True"
      ]
     },
     "execution_count": 2,
     "metadata": {},
     "output_type": "execute_result"
    }
   ],
   "source": [
    "import os\n",
    "from dotenv import load_dotenv\n",
    "load_dotenv()"
   ]
  },
  {
   "cell_type": "code",
   "execution_count": 3,
   "id": "87fc68f0",
   "metadata": {},
   "outputs": [],
   "source": [
    "os.environ[\"AWS_ACCESS_KEY_ID\"] = os.getenv(\"AWS_ACCESS_KEY_ID\")\n",
    "os.environ[\"AWS_SECRET_ACCESS_KEY\"] = os.getenv(\"AWS_SECRET_ACCESS_KEY\")\n",
    "os.environ[\"AWS_DEFAULT_REGION\"] = os.getenv(\"AWS_DEFAULT_REGION\", \"us-east-1\")"
   ]
  },
  {
   "cell_type": "code",
   "execution_count": 4,
   "id": "1ce0a683",
   "metadata": {},
   "outputs": [],
   "source": [
    "os.environ[\"LANGCHAIN_API_KEY\"]=os.getenv(\"LANGCHAIN_API_KEY\")\n",
    "os.environ[\"LANGCHAIN_TRACING_V2\"]=\"true\"\n",
    "os.environ[\"LANGCHAIN_PROJECT\"]=os.getenv(\"LANGCHAIN_PROJECT\")"
   ]
  },
  {
   "cell_type": "code",
   "execution_count": 5,
   "id": "78d7fcdc",
   "metadata": {},
   "outputs": [
    {
     "name": "stderr",
     "output_type": "stream",
     "text": [
      "USER_AGENT environment variable not set, consider setting it to identify your requests.\n"
     ]
    }
   ],
   "source": [
    "from langchain_community.document_loaders import WebBaseLoader\n",
    "loader = WebBaseLoader(\"https://docs.smith.langchain.com\")\n",
    "docs = loader.load()\n"
   ]
  },
  {
   "cell_type": "code",
   "execution_count": 6,
   "id": "0f2ea696",
   "metadata": {},
   "outputs": [],
   "source": [
    "from langchain_text_splitters import RecursiveCharacterTextSplitter\n",
    "text_splitter = RecursiveCharacterTextSplitter(chunk_size=1000, chunk_overlap=200)\n",
    "documents = text_splitter.split_documents(docs)\n"
   ]
  },
  {
   "cell_type": "code",
   "execution_count": 7,
   "id": "e54012f6",
   "metadata": {},
   "outputs": [],
   "source": [
    "from langchain_aws import BedrockEmbeddings\n",
    "embeddings = BedrockEmbeddings(model_id=\"amazon.titan-embed-text-v1\")\n"
   ]
  },
  {
   "cell_type": "code",
   "execution_count": 8,
   "id": "2a3b82e0",
   "metadata": {},
   "outputs": [],
   "source": [
    "from langchain_community.vectorstores import FAISS\n",
    "vectorstoredb = FAISS.from_documents(documents, embeddings)\n"
   ]
  },
  {
   "cell_type": "code",
   "execution_count": 9,
   "id": "2815e392",
   "metadata": {},
   "outputs": [],
   "source": [
    "from langchain_aws import ChatBedrock\n",
    "llm = ChatBedrock(\n",
    "    model_id=\"us.anthropic.claude-3-5-haiku-20241022-v1:0\",\n",
    "    model_kwargs={\n",
    "        \"temperature\": 0,\n",
    "        \"max_tokens\": 1000\n",
    "    }\n",
    ")"
   ]
  },
  {
   "cell_type": "code",
   "execution_count": 10,
   "id": "c6d9ee58",
   "metadata": {},
   "outputs": [],
   "source": [
    "from langchain.chains.combine_documents import create_stuff_documents_chain\n",
    "from langchain_core.prompts import ChatPromptTemplate\n",
    "from langchain.chains import create_retrieval_chain\n",
    "\n",
    "prompt = ChatPromptTemplate.from_template(\"\"\"\n",
    "Answer the following question based only on the provided context:\n",
    "{context}\n",
    "\"\"\")"
   ]
  },
  {
   "cell_type": "code",
   "execution_count": 11,
   "id": "3fa21302",
   "metadata": {},
   "outputs": [],
   "source": [
    "document_chain = create_stuff_documents_chain(llm, prompt)\n",
    "retriever = vectorstoredb.as_retriever()\n",
    "retrieval_chain = create_retrieval_chain(retriever, document_chain)"
   ]
  },
  {
   "cell_type": "code",
   "execution_count": 12,
   "id": "a67a8fbe",
   "metadata": {},
   "outputs": [
    {
     "name": "stdout",
     "output_type": "stream",
     "text": [
      "Based on the provided context, here are the key points about LangSmith:\n",
      "\n",
      "1. LangSmith is a platform for building production-grade LLM (Large Language Model) applications.\n",
      "\n",
      "2. It is framework-agnostic and can be used with or without LangChain's open-source frameworks (langchain and langgraph).\n",
      "\n",
      "3. Key features of LangSmith include:\n",
      "- Observability: Helps debug non-deterministic LLM applications by providing meaningful insights\n",
      "- Evals (Evaluations): Allows testing and optimizing applications using evaluation datasets and metrics\n",
      "- Prompt Engineering: Provides tools to help develop and refine prompts for LLM applications\n",
      "\n",
      "4. LangSmith enables users to:\n",
      "- Monitor and evaluate applications\n",
      "- Create dashboards to view metrics like RPS, error rates, and costs\n",
      "- Run evaluations using off-the-shelf evaluators\n",
      "- Collect and analyze human feedback\n",
      "- Manage prompt versions and collaborate\n",
      "\n",
      "5. It supports application development across all stages - from prototyping to beta testing to production.\n",
      "\n",
      "The platform aims to help developers ship LLM applications quickly and with confidence by providing comprehensive observability and development tools.\n"
     ]
    }
   ],
   "source": [
    "response = retrieval_chain.invoke({\"input\": \"what is langsmith\"})\n",
    "print(response['answer'])"
   ]
  }
 ],
 "metadata": {
  "kernelspec": {
   "display_name": "Python 3",
   "language": "python",
   "name": "python3"
  },
  "language_info": {
   "codemirror_mode": {
    "name": "ipython",
    "version": 3
   },
   "file_extension": ".py",
   "mimetype": "text/x-python",
   "name": "python",
   "nbconvert_exporter": "python",
   "pygments_lexer": "ipython3",
   "version": "3.10.18"
  }
 },
 "nbformat": 4,
 "nbformat_minor": 5
}
