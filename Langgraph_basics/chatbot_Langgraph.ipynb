{
 "cells": [
  {
   "cell_type": "markdown",
   "metadata": {},
   "source": [
    "### Implementing simple Chatbot Using LangGraph"
   ]
  },
  {
   "cell_type": "code",
   "execution_count": 2,
   "metadata": {},
   "outputs": [
    {
     "name": "stdout",
     "output_type": "stream",
     "text": [
      "Collecting langgraph\n",
      "  Downloading langgraph-0.6.6-py3-none-any.whl.metadata (6.8 kB)\n",
      "Requirement already satisfied: langchain-core>=0.1 in ./demouv/venv/lib/python3.10/site-packages (from langgraph) (0.3.74)\n",
      "Collecting langgraph-checkpoint<3.0.0,>=2.1.0 (from langgraph)\n",
      "  Downloading langgraph_checkpoint-2.1.1-py3-none-any.whl.metadata (4.2 kB)\n",
      "Collecting langgraph-prebuilt<0.7.0,>=0.6.0 (from langgraph)\n",
      "  Downloading langgraph_prebuilt-0.6.4-py3-none-any.whl.metadata (4.5 kB)\n",
      "Collecting langgraph-sdk<0.3.0,>=0.2.2 (from langgraph)\n",
      "  Downloading langgraph_sdk-0.2.3-py3-none-any.whl.metadata (1.5 kB)\n",
      "Requirement already satisfied: pydantic>=2.7.4 in ./demouv/venv/lib/python3.10/site-packages (from langgraph) (2.11.7)\n",
      "Collecting xxhash>=3.5.0 (from langgraph)\n",
      "  Downloading xxhash-3.5.0-cp310-cp310-macosx_11_0_arm64.whl.metadata (12 kB)\n",
      "Collecting ormsgpack>=1.10.0 (from langgraph-checkpoint<3.0.0,>=2.1.0->langgraph)\n",
      "  Downloading ormsgpack-1.10.0-cp310-cp310-macosx_10_12_x86_64.macosx_11_0_arm64.macosx_10_12_universal2.whl.metadata (43 kB)\n",
      "Requirement already satisfied: httpx>=0.25.2 in ./demouv/venv/lib/python3.10/site-packages (from langgraph-sdk<0.3.0,>=0.2.2->langgraph) (0.28.1)\n",
      "Requirement already satisfied: orjson>=3.10.1 in ./demouv/venv/lib/python3.10/site-packages (from langgraph-sdk<0.3.0,>=0.2.2->langgraph) (3.11.2)\n",
      "Requirement already satisfied: anyio in ./demouv/venv/lib/python3.10/site-packages (from httpx>=0.25.2->langgraph-sdk<0.3.0,>=0.2.2->langgraph) (4.10.0)\n",
      "Requirement already satisfied: certifi in ./demouv/venv/lib/python3.10/site-packages (from httpx>=0.25.2->langgraph-sdk<0.3.0,>=0.2.2->langgraph) (2025.8.3)\n",
      "Requirement already satisfied: httpcore==1.* in ./demouv/venv/lib/python3.10/site-packages (from httpx>=0.25.2->langgraph-sdk<0.3.0,>=0.2.2->langgraph) (1.0.9)\n",
      "Requirement already satisfied: idna in ./demouv/venv/lib/python3.10/site-packages (from httpx>=0.25.2->langgraph-sdk<0.3.0,>=0.2.2->langgraph) (3.10)\n",
      "Requirement already satisfied: h11>=0.16 in ./demouv/venv/lib/python3.10/site-packages (from httpcore==1.*->httpx>=0.25.2->langgraph-sdk<0.3.0,>=0.2.2->langgraph) (0.16.0)\n",
      "Requirement already satisfied: langsmith>=0.3.45 in ./demouv/venv/lib/python3.10/site-packages (from langchain-core>=0.1->langgraph) (0.4.15)\n",
      "Requirement already satisfied: tenacity!=8.4.0,<10.0.0,>=8.1.0 in ./demouv/venv/lib/python3.10/site-packages (from langchain-core>=0.1->langgraph) (9.1.2)\n",
      "Requirement already satisfied: jsonpatch<2.0,>=1.33 in ./demouv/venv/lib/python3.10/site-packages (from langchain-core>=0.1->langgraph) (1.33)\n",
      "Requirement already satisfied: PyYAML>=5.3 in ./demouv/venv/lib/python3.10/site-packages (from langchain-core>=0.1->langgraph) (6.0.2)\n",
      "Requirement already satisfied: typing-extensions>=4.7 in ./demouv/venv/lib/python3.10/site-packages (from langchain-core>=0.1->langgraph) (4.14.1)\n",
      "Requirement already satisfied: packaging>=23.2 in ./demouv/venv/lib/python3.10/site-packages (from langchain-core>=0.1->langgraph) (25.0)\n",
      "Requirement already satisfied: jsonpointer>=1.9 in ./demouv/venv/lib/python3.10/site-packages (from jsonpatch<2.0,>=1.33->langchain-core>=0.1->langgraph) (3.0.0)\n",
      "Requirement already satisfied: requests-toolbelt>=1.0.0 in ./demouv/venv/lib/python3.10/site-packages (from langsmith>=0.3.45->langchain-core>=0.1->langgraph) (1.0.0)\n",
      "Requirement already satisfied: requests>=2.0.0 in ./demouv/venv/lib/python3.10/site-packages (from langsmith>=0.3.45->langchain-core>=0.1->langgraph) (2.32.5)\n",
      "Requirement already satisfied: zstandard>=0.23.0 in ./demouv/venv/lib/python3.10/site-packages (from langsmith>=0.3.45->langchain-core>=0.1->langgraph) (0.24.0)\n",
      "Requirement already satisfied: annotated-types>=0.6.0 in ./demouv/venv/lib/python3.10/site-packages (from pydantic>=2.7.4->langgraph) (0.7.0)\n",
      "Requirement already satisfied: pydantic-core==2.33.2 in ./demouv/venv/lib/python3.10/site-packages (from pydantic>=2.7.4->langgraph) (2.33.2)\n",
      "Requirement already satisfied: typing-inspection>=0.4.0 in ./demouv/venv/lib/python3.10/site-packages (from pydantic>=2.7.4->langgraph) (0.4.1)\n",
      "Requirement already satisfied: charset_normalizer<4,>=2 in ./demouv/venv/lib/python3.10/site-packages (from requests>=2.0.0->langsmith>=0.3.45->langchain-core>=0.1->langgraph) (3.4.3)\n",
      "Requirement already satisfied: urllib3<3,>=1.21.1 in ./demouv/venv/lib/python3.10/site-packages (from requests>=2.0.0->langsmith>=0.3.45->langchain-core>=0.1->langgraph) (2.5.0)\n",
      "Requirement already satisfied: exceptiongroup>=1.0.2 in ./demouv/venv/lib/python3.10/site-packages (from anyio->httpx>=0.25.2->langgraph-sdk<0.3.0,>=0.2.2->langgraph) (1.3.0)\n",
      "Requirement already satisfied: sniffio>=1.1 in ./demouv/venv/lib/python3.10/site-packages (from anyio->httpx>=0.25.2->langgraph-sdk<0.3.0,>=0.2.2->langgraph) (1.3.1)\n",
      "Downloading langgraph-0.6.6-py3-none-any.whl (153 kB)\n",
      "Downloading langgraph_checkpoint-2.1.1-py3-none-any.whl (43 kB)\n",
      "Downloading langgraph_prebuilt-0.6.4-py3-none-any.whl (28 kB)\n",
      "Downloading langgraph_sdk-0.2.3-py3-none-any.whl (52 kB)\n",
      "Downloading ormsgpack-1.10.0-cp310-cp310-macosx_10_12_x86_64.macosx_11_0_arm64.macosx_10_12_universal2.whl (376 kB)\n",
      "Downloading xxhash-3.5.0-cp310-cp310-macosx_11_0_arm64.whl (30 kB)\n",
      "Installing collected packages: xxhash, ormsgpack, langgraph-sdk, langgraph-checkpoint, langgraph-prebuilt, langgraph\n",
      "\u001b[2K   \u001b[90m━━━━━━━━━━━━━━━━━━━━━━━━━━━━━━━━━━━━━━━━\u001b[0m \u001b[32m6/6\u001b[0m [langgraph]\n",
      "\u001b[1A\u001b[2KSuccessfully installed langgraph-0.6.6 langgraph-checkpoint-2.1.1 langgraph-prebuilt-0.6.4 langgraph-sdk-0.2.3 ormsgpack-1.10.0 xxhash-3.5.0\n",
      "Note: you may need to restart the kernel to use updated packages.\n"
     ]
    }
   ],
   "source": [
    "%pip install langgraph"
   ]
  },
  {
   "cell_type": "code",
   "execution_count": 3,
   "metadata": {},
   "outputs": [],
   "source": [
    "from typing_extensions import TypedDict\n",
    "\n",
    "from langgraph.graph import StateGraph, START, END\n",
    "\n",
    "## Reducers\n",
    "from typing import Annotated\n",
    "from langgraph.graph.message import add_messages"
   ]
  },
  {
   "cell_type": "code",
   "execution_count": 4,
   "metadata": {},
   "outputs": [],
   "source": [
    "class State(TypedDict):\n",
    "    messages:Annotated[list,add_messages]"
   ]
  },
  {
   "cell_type": "code",
   "execution_count": 5,
   "metadata": {},
   "outputs": [],
   "source": [
    "import os\n",
    "from dotenv import load_dotenv\n",
    "load_dotenv()\n",
    "\n",
    "os.environ[\"OPENAI_API_KEY\"]=os.getenv(\"OPENAI_API_KEY\")\n",
    "os.environ[\"GROQ_API_KEY\"]=os.getenv(\"GROQ_API_KEY\")\n"
   ]
  },
  {
   "cell_type": "code",
   "execution_count": 6,
   "metadata": {},
   "outputs": [
    {
     "data": {
      "text/plain": [
       "AIMessage(content='Hello! How can I assist you today?', additional_kwargs={'refusal': None}, response_metadata={'token_usage': {'completion_tokens': 9, 'prompt_tokens': 8, 'total_tokens': 17, 'completion_tokens_details': {'accepted_prediction_tokens': 0, 'audio_tokens': 0, 'reasoning_tokens': 0, 'rejected_prediction_tokens': 0}, 'prompt_tokens_details': {'audio_tokens': 0, 'cached_tokens': 0}}, 'model_name': 'gpt-4o-2024-08-06', 'system_fingerprint': 'fp_07871e2ad8', 'id': 'chatcmpl-C81qZzDnEq65N5kFAE0vL8kZmdUKe', 'service_tier': 'default', 'finish_reason': 'stop', 'logprobs': None}, id='run--1f84f691-f3a8-4c8d-99d3-5b64c4a489d7-0', usage_metadata={'input_tokens': 8, 'output_tokens': 9, 'total_tokens': 17, 'input_token_details': {'audio': 0, 'cache_read': 0}, 'output_token_details': {'audio': 0, 'reasoning': 0}})"
      ]
     },
     "execution_count": 6,
     "metadata": {},
     "output_type": "execute_result"
    }
   ],
   "source": [
    "from langchain_openai import ChatOpenAI\n",
    "llm=ChatOpenAI(model=\"gpt-4o\")\n",
    "llm.invoke(\"Hello\")"
   ]
  },
  {
   "cell_type": "code",
   "execution_count": 10,
   "metadata": {},
   "outputs": [
    {
     "data": {
      "text/plain": [
       "AIMessage(content=\"<think>\\nOkay, the user is Krish and he mentioned he likes to play cricket. Let me start by acknowledging his name and interest. I should make sure to respond in a friendly and engaging way.\\n\\nFirst, I'll greet him and confirm that I heard his name and his love for cricket. Then, maybe ask if he plays as a hobby or is into competitive sports. That could open up more conversation.\\n\\nI should also check if there are any recent cricket events or tournaments he might be interested in. Maybe suggest discussing strategies or techniques if he's looking to improve. But I need to keep it light and not overwhelm him with too many options.\\n\\nAlso, since he's sharing a bit about himself, it's good to be encouraging. Praise his interest in cricket as it's a great sport. Maybe mention the teamwork and skills involved to show I understand the game.\\n\\nI should avoid making assumptions beyond what he's said. Don't want to assume his skill level or how much he plays. Keep the questions open-ended so he can guide the conversation.\\n\\nMaybe ask if he has a favorite team or player. That could lead to more specific discussions. But again, keep it optional so he can choose how much to share.\\n\\nI need to make sure the response is positive, inviting, and not too long. Break it into short paragraphs for readability. Use emojis sparingly, maybe a cricket bat emoji to keep it friendly.\\n\\nAlso, check for any typos or grammar issues. Keep the tone conversational and approachable. Let him know I'm here to chat about cricket or any other topic he's interested in.\\n</think>\\n\\nHello Krish! 🏏 It's awesome to meet a cricket enthusiast! Cricket is such a fantastic sport that combines strategy, skill, and team spirit. Do you play it as a hobby, or are you part of a competitive team?  \\n\\nI’d love to hear more about what you enjoy most about the game—whether it’s the thrill of a six, the precision of a yorker, or the camaraderie on the field! If you’re looking to improve your game, we could chat about techniques, drills, or even strategies for batting or bowling.  \\n\\nAlso, do you follow any particular cricket leagues or teams? The IPL, T20 World Cup, or maybe Test cricket? Share your thoughts—I’m all ears! 😊  \\n\\nLet me know how you’d like to take this conversation forward! 🌟\", additional_kwargs={}, response_metadata={'token_usage': {'completion_tokens': 496, 'prompt_tokens': 18, 'total_tokens': 514, 'completion_time': 1.85783188, 'prompt_time': 0.006757455, 'queue_time': 0.315844654, 'total_time': 1.864589335}, 'model_name': 'qwen/qwen3-32b', 'system_fingerprint': 'fp_5cf921caa2', 'service_tier': 'on_demand', 'finish_reason': 'stop', 'logprobs': None}, id='run--acdaaac0-a44d-49be-b9c3-00c76775f111-0', usage_metadata={'input_tokens': 18, 'output_tokens': 496, 'total_tokens': 514})"
      ]
     },
     "execution_count": 10,
     "metadata": {},
     "output_type": "execute_result"
    }
   ],
   "source": [
    "from langchain_groq import ChatGroq\n",
    "\n",
    "llm_groq=ChatGroq(model=\"qwen/qwen3-32b\")\n",
    "llm_groq.invoke(\"Hey I am Krish and i like to play cricket\")"
   ]
  },
  {
   "cell_type": "markdown",
   "metadata": {},
   "source": [
    "### We Will start With Creating Nodes"
   ]
  },
  {
   "cell_type": "code",
   "execution_count": 11,
   "metadata": {},
   "outputs": [],
   "source": [
    "def superbot(state:State):\n",
    "    return {\"messages\":[llm_groq.invoke(state['messages'])]}"
   ]
  },
  {
   "cell_type": "code",
   "execution_count": 12,
   "metadata": {},
   "outputs": [
    {
     "data": {
      "image/png": "[encoded data removed]",
      "text/plain": [
       "<IPython.core.display.Image object>"
      ]
     },
     "metadata": {},
     "output_type": "display_data"
    }
   ],
   "source": [
    "graph=StateGraph(State)\n",
    "\n",
    "## node\n",
    "graph.add_node(\"SuperBot\",superbot)\n",
    "## Edges\n",
    "\n",
    "graph.add_edge(START,\"SuperBot\")\n",
    "graph.add_edge(\"SuperBot\",END)\n",
    "\n",
    "\n",
    "graph_builder=graph.compile()\n",
    "\n",
    "\n",
    "## Display\n",
    "from IPython.display import Image, display\n",
    "display(Image(graph_builder.get_graph().draw_mermaid_png()))"
   ]
  },
  {
   "cell_type": "code",
   "execution_count": 13,
   "metadata": {},
   "outputs": [
    {
     "data": {
      "text/plain": [
       "{'messages': [HumanMessage(content='Hi,My name is Krish And I like cricket', additional_kwargs={}, response_metadata={}, id='0d2ba099-8719-4e13-a870-3967969b0323'),\n",
       "  AIMessage(content=\"<think>\\nOkay, the user introduced himself as Krish and mentioned he likes cricket. Let me think about how to respond. First, I should acknowledge his name and his interest. Maybe ask him about his favorite teams or players to engage further. Also, since cricket is popular in countries like India, Pakistan, Australia, etc., perhaps ask where he's from. But wait, I shouldn't make assumptions. Let me keep it general. Maybe ask if he plays cricket or just watches. Also, mention some popular aspects of cricket like T20s, Tests, or ODI. Keep the tone friendly and encouraging. Let me check if there are any common follow-up questions. Oh, maybe ask about his favorite memories related to cricket. Let me structure a response that is welcoming and prompts him to share more.\\n</think>\\n\\nHi Krish! 🏏 It's great to meet you! I love that you're a cricket fan—such an exciting sport! Do you have a favorite team or player? I'd also love to know if you play the game yourself or just enjoy watching the matches. The world of cricket is full of amazing moments, from heart-stopping T20 finishes to thrilling Test series. What's your favorite format to watch? Let me know more about what draws you to the sport! 👏\", additional_kwargs={}, response_metadata={'token_usage': {'completion_tokens': 266, 'prompt_tokens': 18, 'total_tokens': 284, 'completion_time': 0.761189525, 'prompt_time': 0.046307592, 'queue_time': 0.050695548, 'total_time': 0.807497117}, 'model_name': 'qwen/qwen3-32b', 'system_fingerprint': 'fp_5cf921caa2', 'service_tier': 'on_demand', 'finish_reason': 'stop', 'logprobs': None}, id='run--e1917444-c3e6-4dba-a95d-e505423bde00-0', usage_metadata={'input_tokens': 18, 'output_tokens': 266, 'total_tokens': 284})]}"
      ]
     },
     "execution_count": 13,
     "metadata": {},
     "output_type": "execute_result"
    }
   ],
   "source": [
    "## Invocation\n",
    "\n",
    "graph_builder.invoke({'messages':\"Hi,My name is Krish And I like cricket\"})"
   ]
  },
  {
   "cell_type": "markdown",
   "metadata": {},
   "source": [
    "#### Streaming The responses"
   ]
  },
  {
   "cell_type": "code",
   "execution_count": 14,
   "metadata": {},
   "outputs": [
    {
     "name": "stdout",
     "output_type": "stream",
     "text": [
      "{'SuperBot': {'messages': [AIMessage(content=\"<think>\\nOkay, the user introduced themselves as KRish. I should acknowledge their name and offer assistance. Let me make sure to respond warmly and invite them to ask questions or share what's on their mind. I need to keep the tone friendly and open-ended. Maybe add an emoji to keep it approachable. Let me check for any typos and ensure the response is clear.\\n</think>\\n\\nHello KRish! 😊 Nice to meet you! How can I assist you today? Feel free to ask questions, share thoughts, or let me know if you need help with anything specific. I'm here to help! 🌟\", additional_kwargs={}, response_metadata={'token_usage': {'completion_tokens': 128, 'prompt_tokens': 14, 'total_tokens': 142, 'completion_time': 0.278238915, 'prompt_time': 0.007227144, 'queue_time': 0.084877505, 'total_time': 0.285466059}, 'model_name': 'qwen/qwen3-32b', 'system_fingerprint': 'fp_5cf921caa2', 'service_tier': 'on_demand', 'finish_reason': 'stop', 'logprobs': None}, id='run--d615024b-05f2-44ff-abc8-209bf04affab-0', usage_metadata={'input_tokens': 14, 'output_tokens': 128, 'total_tokens': 142})]}}\n"
     ]
    }
   ],
   "source": [
    "for event in graph_builder.stream({\"messages\":\"Hello My name is KRish\"}):\n",
    "    print(event)"
   ]
  }
 ],
 "metadata": {
  "kernelspec": {
   "display_name": "Python 3",
   "language": "python",
   "name": "python3"
  },
  "language_info": {
   "codemirror_mode": {
    "name": "ipython",
    "version": 3
   },
   "file_extension": ".py",
   "mimetype": "text/x-python",
   "name": "python",
   "nbconvert_exporter": "python",
   "pygments_lexer": "ipython3",
   "version": "3.10.18"
  }
 },
 "nbformat": 4,
 "nbformat_minor": 2
}
